{
  "cells": [
    {
      "cell_type": "code",
      "execution_count": null,
      "metadata": {
        "id": "pdwZUBB07vEY"
      },
      "outputs": [
        {
          "ename": "",
          "evalue": "",
          "output_type": "error",
          "traceback": [
            "\u001b[1;31m运行具有“Python 3.7.3”的单元格需要ipykernel包。\n",
            "\u001b[1;31m运行以下命令，将 \"ipykernel\" 安装到 Python 环境中。\n",
            "\u001b[1;31m命令: \"/usr/bin/python3 -m pip install ipykernel -U --user --force-reinstall\""
          ]
        }
      ],
      "source": [
        "import numpy as np\n",
        "from scipy import signal\n",
        "import wave\n",
        "import matplotlib.pyplot as plt"
      ]
    },
    {
      "cell_type": "markdown",
      "metadata": {
        "id": "8bPw1LknRRps"
      },
      "source": [
        "# Question 2"
      ]
    },
    {
      "cell_type": "code",
      "execution_count": null,
      "metadata": {
        "id": "CFc_nKzA7lgo"
      },
      "outputs": [],
      "source": [
        "def get_distance(file):\n",
        "    # get sampling frequency\n",
        "    sf = file.getframerate()\n",
        "    # get audio data total length\n",
        "    n_length = file.getnframes()\n",
        "    # read audio data\n",
        "    audio_data_raw = file.readframes(n_length)\n",
        "    # transfer to python list\n",
        "    audio_data_raw = list(audio_data_raw)\n",
        "    # transfer to numpy array\n",
        "    audio_data_raw = np.asarray(audio_data_raw, np.int8)\n",
        "    # set the data type to int16\n",
        "    audio_data_raw.dtype = 'int16'\n",
        "    # calculate audio length in second\n",
        "    audio_data_raw_total_time = n_length/sf\n",
        "    # close the file\n",
        "    file.close()\n",
        "\n",
        "    # cut the middle part of the audio data\n",
        "    time_offset = 2\n",
        "    total_time = np.int32(np.ceil(audio_data_raw_total_time - time_offset - 2))\n",
        "    total_point = total_time * sf\n",
        "    time_offset_point = time_offset * sf\n",
        "    audio_data = audio_data_raw[range(time_offset_point,time_offset_point+total_point)]\n",
        "\n",
        "    # set frequency\n",
        "    freq = 18_000\n",
        "    # calculate time t\n",
        "    t = np.arange(total_point)/sf\n",
        "    # get the cos and sin used in demodulation\n",
        "    signal_cos = np.cos(2*np.pi*freq*t)\n",
        "    signal_sin = np.sin(2*np.pi*freq*t)\n",
        "    # get a low-pass filter\n",
        "    b, a = signal.butter(3, 50/(sf/2), 'lowpass')\n",
        "    # TODO: multiply received signal and demodulate signal (Hint use scipy.signal.filtfilt method)\n",
        "    signalI = signal.filtfilt(b,a,audio_data*signal_cos)\n",
        "    signalQ = signal.filtfilt(b,a,audio_data*signal_sin)\n",
        "    # remove the static vector\n",
        "    signalI = signalI - np.mean(signalI)\n",
        "    signalQ = signalQ - np.mean(signalQ)\n",
        "    # calculate the phase angle\n",
        "    phase = np.arctan(signalQ/signalI)\n",
        "    # unwrap the phase\n",
        "    phase = np.unwrap(phase*2)/2\n",
        "    # TODO: calculate the distance\n",
        "    waveLength = 342/freq\n",
        "    distance = phase/2/np.pi*waveLength/2\n",
        "\n",
        "    return t, distance"
      ]
    },
    {
      "cell_type": "code",
      "execution_count": null,
      "metadata": {
        "colab": {
          "base_uri": "https://localhost:8080/",
          "height": 1000
        },
        "id": "ZxJOMpATMXeM",
        "outputId": "f4d0d1e7-651d-49f7-ea47-3b555fdca1b6"
      },
      "outputs": [],
      "source": [
        "# read audio file recorded by Raspberry pi\n",
        "file_mic = wave.open('output_mic1.wav', 'rb')\n",
        "\n",
        "\n",
        "t, distance = get_distance(file_mic)\n",
        "\n",
        "\n",
        "distance = distance + (0.5876122 - distance[0])\n",
        "\n",
        "plt.plot(t, distance)\n",
        "plt.xlabel('time/s')\n",
        "plt.ylabel('distance/m')\n",
        "plt.show()\n",
        "# plt.savefig(\"/content/distance.png\")\n"
      ]
    }
  ],
  "metadata": {
    "colab": {
      "provenance": []
    },
    "kernelspec": {
      "display_name": "Python 3",
      "language": "python",
      "name": "python3"
    },
    "language_info": {
      "codemirror_mode": {
        "name": "ipython",
        "version": 3
      },
      "file_extension": ".py",
      "mimetype": "text/x-python",
      "name": "python",
      "nbconvert_exporter": "python",
      "pygments_lexer": "ipython3",
      "version": "3.7.3"
    }
  },
  "nbformat": 4,
  "nbformat_minor": 0
}
